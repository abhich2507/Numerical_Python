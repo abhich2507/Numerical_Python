{
  "nbformat": 4,
  "nbformat_minor": 0,
  "metadata": {
    "colab": {
      "provenance": [],
      "authorship_tag": "ABX9TyOrEq8NZLdlEjEDmUhonQEB",
      "include_colab_link": true
    },
    "kernelspec": {
      "name": "python3",
      "display_name": "Python 3"
    },
    "language_info": {
      "name": "python"
    }
  },
  "cells": [
    {
      "cell_type": "markdown",
      "metadata": {
        "id": "view-in-github",
        "colab_type": "text"
      },
      "source": [
        "<a href=\"https://colab.research.google.com/github/abhich2507/Numerical_Python/blob/main/Assn_1911007.ipynb\" target=\"_parent\"><img src=\"https://colab.research.google.com/assets/colab-badge.svg\" alt=\"Open In Colab\"/></a>"
      ]
    },
    {
      "cell_type": "code",
      "execution_count": 2,
      "metadata": {
        "colab": {
          "base_uri": "https://localhost:8080/"
        },
        "id": "bOJkdQJTxrYK",
        "outputId": "365ed0e6-71c8-4f82-8e6c-85987cd2d4ca"
      },
      "outputs": [
        {
          "output_type": "stream",
          "name": "stdout",
          "text": [
            "A= [[ 6.00000000e+00  3.31152776e-15 -5.24604773e-14  3.44156801e-09]\n",
            " [ 3.28225807e-15  4.00000000e+00  1.21079839e-11 -1.90734863e-06]\n",
            " [-5.30689896e-14  1.21084736e-11  8.00000000e+00  3.27398426e-11]\n",
            " [ 3.44156639e-09 -1.90734863e-06  3.27418150e-11  2.00000000e+00]]\n",
            "Q= [[ 1.00000000e+00 -1.64109789e-15  6.63363074e-15 -1.72078319e-09]\n",
            " [ 3.28216462e-15  1.00000000e+00 -1.51356311e-12  9.53674316e-07]\n",
            " [-6.63365891e-15  1.51357872e-12  1.00000000e+00 -1.63709061e-11]\n",
            " [ 1.72078319e-09 -9.53674316e-07  1.63709075e-11  1.00000000e+00]]\n",
            "eigenvalues= [6. 4. 8. 2.]\n"
          ]
        },
        {
          "output_type": "stream",
          "name": "stderr",
          "text": [
            "<ipython-input-2-8d2af50ea353>:15: ComplexWarning: Casting complex values to real discards the imaginary part\n",
            "  R[j,j] = mag(Ap[:,j])\n",
            "<ipython-input-2-8d2af50ea353>:16: ComplexWarning: Casting complex values to real discards the imaginary part\n",
            "  Q[:,j] = Ap[:,j]/R[j,j]\n",
            "<ipython-input-2-8d2af50ea353>:13: ComplexWarning: Casting complex values to real discards the imaginary part\n",
            "  R[i,j] = Q[:,i]@A[:,j]\n"
          ]
        }
      ],
      "source": [
        "#1\n",
        "\n",
        "import numpy as np\n",
        "def mag(xs):\n",
        "    return np.sqrt(np.sum(xs*xs))\n",
        "def qrdec(A):\n",
        "    n = A.shape[0]\n",
        "    Ap = np.copy(A)\n",
        "    Q = np.zeros((n,n))\n",
        "    R = np.zeros((n,n))\n",
        "    for j in range(n):\n",
        "        for i in range(j):\n",
        "            R[i,j] = Q[:,i]@A[:,j]\n",
        "            Ap[:,j] -= R[i,j]*Q[:,i]\n",
        "        R[j,j] = mag(Ap[:,j])\n",
        "        Q[:,j] = Ap[:,j]/R[j,j]\n",
        "    return Q, R\n",
        "A=np.array([[4.0,2.0/3.0,-4.0/3.0,4.0/3.0],[2.0/3.0,4.0,0,0],[-4.0/3.0,0,6,2],[4.0/3.0,0.0,2.0,6.0]],dtype=complex)\n",
        "'''\n",
        "Q,R=qrdec(A)\n",
        "print('Q=',Q)\n",
        "print('R=',R)\n",
        "'''\n",
        "for k in range(1,20):\n",
        "    Q,R=qrdec(A)\n",
        "    A=R@Q\n",
        "    m=[]\n",
        "    for i in range(1,np.shape(A)[0]):\n",
        "        for j in range(i+1):\n",
        "            m.append(abs(A[i][j]))\n",
        "    f=sum(m)\n",
        "    if f<=0.00001:\n",
        "        break\n",
        "eigenvalues=np.diagonal(A)\n",
        "print('A=',A)\n",
        "print('Q=',Q)\n",
        "print('eigenvalues=',eigenvalues)"
      ]
    },
    {
      "cell_type": "markdown",
      "source": [
        "#1b"
      ],
      "metadata": {
        "id": "QHheiWWbyGxr"
      }
    },
    {
      "cell_type": "code",
      "source": [
        "import numpy as np\n",
        "\n",
        "# Define the matrix\n",
        "A = np.array([[4.0, 2.0/3.0, -4.0/3.0, 4.0/3.0],\n",
        "              [2.0/3.0, 4.0, 0, 0],\n",
        "              [-4.0/3.0, 0, 6, 2],\n",
        "              [4.0/3.0, 0.0, 2.0, 6.0]], dtype=complex)\n",
        "\n",
        "# Choose an initial guess for the eigenvector\n",
        "v_initial = np.array([1, 1, 1, 1])\n",
        "\n",
        "# Define a function to calculate the relative error\n",
        "def relative_error(new_val, old_val):\n",
        "    return abs((new_val - old_val) / new_val) * 100\n",
        "\n",
        "# Initialize variables\n",
        "old_eigenvalue = 0.0\n",
        "tolerance = 0.0001\n",
        "\n",
        "# Iterative method to find the largest eigenvalue and its corresponding eigenvector\n",
        "while True:\n",
        "    v_updated = np.dot(A, v_initial)\n",
        "    eigenvalue = np.linalg.norm(v_updated)\n",
        "    error = relative_error(eigenvalue, old_eigenvalue)\n",
        "    v_updated = v_updated / eigenvalue\n",
        "\n",
        "    # Check if the error is within tolerance\n",
        "    if error < tolerance:\n",
        "        break\n",
        "\n",
        "    old_eigenvalue = eigenvalue\n",
        "    v_initial = v_updated\n",
        "\n",
        "# Print the results\n",
        "print('Largest eigenvalue =', eigenvalue)\n",
        "print('Eigenvector =', v_updated)\n"
      ],
      "metadata": {
        "colab": {
          "base_uri": "https://localhost:8080/"
        },
        "id": "qDFFXw2dyUw3",
        "outputId": "e0e3f9b4-ff9a-4e93-b1a4-212cec5ca40a"
      },
      "execution_count": 4,
      "outputs": [
        {
          "output_type": "stream",
          "name": "stdout",
          "text": [
            "Largest eigenvalue = 7.999992178241464\n",
            "Eigenvector = [1.12119132e-03+0.j 3.74030152e-04+0.j 7.06358506e-01+0.j\n",
            " 7.07853278e-01+0.j]\n"
          ]
        }
      ]
    },
    {
      "cell_type": "markdown",
      "source": [
        "#2A"
      ],
      "metadata": {
        "id": "BVHjEZjmyaOb"
      }
    },
    {
      "cell_type": "code",
      "source": [
        "import numpy as np\n",
        "import matplotlib.pyplot as plt\n",
        "x=np.arange(0.00,1.05,0.05)\n",
        "y=np.array([0.486,0.866,0.944,1.144,1.103,1.202,1.166,1.191,1.124,1.095,1.122,1.102,1.099,1.017,1.111,1.117,1.152,1.265,1.380,1.575,1.857])\n",
        "x2=x**2\n",
        "x3=x**3\n",
        "x4=x**4\n",
        "x5=x**5\n",
        "x6=x**6\n",
        "xy=x*y\n",
        "x2y=x2*y\n",
        "x3y=x3*y\n",
        "sumx=np.sum(x)\n",
        "sumy=np.sum(y)\n",
        "sumx2=np.sum(x2)\n",
        "sumx3=np.sum(x3)\n",
        "sumx4=np.sum(x4)\n",
        "sumx5=np.sum(x5)\n",
        "sumx6=np.sum(x6)\n",
        "sumxy=np.sum(xy)\n",
        "sumx2y=np.sum(x2y)\n",
        "sumx3y=np.sum(x3y)\n",
        "A=np.array([[len(x),sumx,sumx2,sumx3],[sumx,sumx2,sumx3,sumx4],[sumx2,sumx3,sumx4,sumx5],[sumx3,sumx4,sumx5,sumx6]])\n",
        "B=np.array([sumy,sumxy,sumx2y,sumx3y])\n",
        "X=np.linalg.solve(A, B)\n",
        "def f(x,a,b,c,d):\n",
        "    return a + b*x + c*x*2 + d*x*3\n",
        "plt.scatter(x,y,color='r')\n",
        "plt.title(\"Data fitting\")\n",
        "plt.plot(x,f(x,X[0],X[1],X[2],X[3]))"
      ],
      "metadata": {
        "colab": {
          "base_uri": "https://localhost:8080/",
          "height": 469
        },
        "id": "tcI1LoLVyZgk",
        "outputId": "35c3f3bc-c256-4ee7-8b00-ddd923b1e005"
      },
      "execution_count": 7,
      "outputs": [
        {
          "output_type": "execute_result",
          "data": {
            "text/plain": [
              "[<matplotlib.lines.Line2D at 0x7e0e8d6703d0>]"
            ]
          },
          "metadata": {},
          "execution_count": 7
        },
        {
          "output_type": "display_data",
          "data": {
            "text/plain": [
              "<Figure size 640x480 with 1 Axes>"
            ],
            "image/png": "[encoded data removed]"
          },
          "metadata": {}
        }
      ]
    },
    {
      "cell_type": "markdown",
      "source": [
        "#2B"
      ],
      "metadata": {
        "id": "MD1tOXUNy-7U"
      }
    },
    {
      "cell_type": "code",
      "source": [
        "import numpy as np\n",
        "import matplotlib.pyplot as plt\n",
        "x=np.arange(0.00,1.05,0.05)\n",
        "y=np.array([0.486,0.866,0.944,1.144,1.103,1.202,1.166,1.191,1.124,1.095,1.122,1.102,1.099,1.017,1.111,1.117,1.152,1.265,1.380,1.575,1.857])\n",
        "x2=x**2\n",
        "x3=x**3\n",
        "x4=x**4\n",
        "x5=x**5\n",
        "x6=x**6\n",
        "xy=x*y\n",
        "x2y=x2*y\n",
        "x3y=x3*y\n",
        "sumx=np.sum(x)\n",
        "sumy=np.sum(y)\n",
        "sumx2=np.sum(x2)\n",
        "sumx3=np.sum(x3)\n",
        "sumx4=np.sum(x4)\n",
        "sumx5=np.sum(x5)\n",
        "sumx6=np.sum(x6)\n",
        "sumxy=np.sum(xy)\n",
        "sumx2y=np.sum(x2y)\n",
        "sumx3y=np.sum(x3y)\n",
        "A=np.array([[len(x),sumx,sumx2,sumx3],[sumx,sumx2,sumx3,sumx4],[sumx2,sumx3,sumx4,sumx5],[sumx3,sumx4,sumx5,sumx6]])\n",
        "B=np.array([sumy,sumxy,sumx2y,sumx3y])\n",
        "X=np.linalg.solve(A, B)\n",
        "def f(x,a,b,c,d):\n",
        "    return a + b*x + c*x*2 + d*x*3\n",
        "plt.scatter(x,y,color=\"r\")\n",
        "plt.title(\"Data fitting\")\n",
        "plt.plot(x,f(x,X[0],X[1],X[2],X[3]))"
      ],
      "metadata": {
        "colab": {
          "base_uri": "https://localhost:8080/",
          "height": 469
        },
        "id": "o9cbyOngy-Mt",
        "outputId": "17c0fd36-999f-4b88-e65e-e93b2f527de1"
      },
      "execution_count": 9,
      "outputs": [
        {
          "output_type": "execute_result",
          "data": {
            "text/plain": [
              "[<matplotlib.lines.Line2D at 0x7e0e8d9a16f0>]"
            ]
          },
          "metadata": {},
          "execution_count": 9
        },
        {
          "output_type": "display_data",
          "data": {
            "text/plain": [
              "<Figure size 640x480 with 1 Axes>"
            ],
            "image/png": "[encoded data removed]"
          },
          "metadata": {}
        }
      ]
    }
  ]
}